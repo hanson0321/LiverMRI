{
 "cells": [
  {
   "cell_type": "code",
   "execution_count": 5,
   "metadata": {},
   "outputs": [],
   "source": [
    "import os\n",
    "import numpy as np\n",
    "import matplotlib.pyplot as plt\n",
    "import SimpleITK as sitk\n",
    "import ipywidgets as widgets\n",
    "from IPython.display import display\n",
    "\n",
    "# 從我們自己的 utils 模組中匯入函式\n",
    "from utils.data_loader import load_dicom_series\n",
    "from utils.image_processing import register_images\n",
    "\n",
    "# Matplotlib 設定，讓影像在 Notebook 中直接顯示\n",
    "%matplotlib inline"
   ]
  },
  {
   "cell_type": "markdown",
   "metadata": {},
   "source": [
    "載入病人"
   ]
  },
  {
   "cell_type": "code",
   "execution_count": 6,
   "metadata": {},
   "outputs": [
    {
     "name": "stdout",
     "output_type": "stream",
     "text": [
      "正在準備載入病人 ID: '001' 的資料...\n",
      "開始載入 T1+C (001) 從: data/All_Patients/001/Ax T1 FS BH+C\n",
      "  T1+C (001) 載入成功。 NumPy 陣列形狀: (31, 512, 512)\n",
      "開始載入 PDFF (001) 從: data/All_Patients/001/FatFrac  3D Ax IDEAL IQ BH\n",
      "  PDFF (001) 載入成功。 NumPy 陣列形狀: (56, 256, 256)\n",
      "\n",
      "單一病人 '001' 資料載入成功！\n"
     ]
    }
   ],
   "source": [
    "# --- 設定區 ---\n",
    "# 您只需要修改這一行，可以輸入數字或字串\n",
    "PATIENT_ID_INPUT = 1  # 您可以換成任何想測試的病人編號，例如 1, 15, \"22\"\n",
    "\n",
    "# --- 自動格式化路徑 ---\n",
    "# 將輸入的數字格式化為三位數的字串 (例如 1 -> \"001\", 22 -> \"022\")\n",
    "PATIENT_ID_TO_TEST = f\"{int(PATIENT_ID_INPUT):03d}\"\n",
    "\n",
    "# 資料路徑設定\n",
    "BASE_DATA_PATH = \"data/All_Patients\"\n",
    "T1C_FOLDER_NAME = \"Ax T1 FS BH+C\"\n",
    "PDFF_FOLDER_NAME = \"FatFrac  3D Ax IDEAL IQ BH\"\n",
    "\n",
    "# --- 載入資料 ---\n",
    "print(f\"正在準備載入病人 ID: '{PATIENT_ID_TO_TEST}' 的資料...\")\n",
    "t1c_dir = os.path.join(BASE_DATA_PATH, PATIENT_ID_TO_TEST, T1C_FOLDER_NAME)\n",
    "pdff_dir = os.path.join(BASE_DATA_PATH, PATIENT_ID_TO_TEST, PDFF_FOLDER_NAME)\n",
    "\n",
    "volume_t1c_sitk, array_t1c, _ = load_dicom_series(t1c_dir, f\"T1+C ({PATIENT_ID_TO_TEST})\")\n",
    "volume_pdff_sitk, array_pdff, _ = load_dicom_series(pdff_dir, f\"PDFF ({PATIENT_ID_TO_TEST})\")\n",
    "\n",
    "# 檢查是否成功載入\n",
    "if array_t1c is not None and array_pdff is not None:\n",
    "    print(f\"\\n單一病人 '{PATIENT_ID_TO_TEST}' 資料載入成功！\")\n",
    "else:\n",
    "    print(f\"\\n資料載入失敗，請檢查路徑或病人 ID '{PATIENT_ID_TO_TEST}' 是否存在。\")"
   ]
  },
  {
   "cell_type": "code",
   "execution_count": 7,
   "metadata": {},
   "outputs": [
    {
     "name": "stdout",
     "output_type": "stream",
     "text": [
      "--- 開始執行多階段影像對位 ---\n",
      "  [階段 1/2] 正在進行仿射對位...\n",
      "  仿射對位完成。最終度量值: -0.4033\n",
      "\n",
      "  [階段 2/2] 正在進行 B-Spline 非剛性對位...\n",
      "  B-Spline 對位完成。最終度量值: -0.4034\n",
      "\n",
      "--- 對位完成，正在重採樣影像 ---\n",
      "\n",
      "--- 正在計算評估指標 ---\n",
      "✅ 非微分同胚體積 (NDV): 0.000000 %\n",
      "--------------------------\n",
      "\n"
     ]
    },
    {
     "data": {
      "application/vnd.jupyter.widget-view+json": {
       "model_id": "e7b40eeb401943d9b10904fc17ab52c2",
       "version_major": 2,
       "version_minor": 0
      },
      "text/plain": [
       "interactive(children=(IntSlider(value=28, continuous_update=False, description='Slice Index:', layout=Layout(w…"
      ]
     },
     "metadata": {},
     "output_type": "display_data"
    }
   ],
   "source": [
    "# --- 執行對位 ---\n",
    "# 這會呼叫您在 utils/image_processing.py 中定義的函式\n",
    "# 修改接收方式，以同時取得對位後的影像陣列與轉換物件\n",
    "array_t1c_resampled, final_transform = register_images(volume_pdff_sitk, volume_t1c_sitk)\n",
    "\n",
    "# --- 互動式視覺化與量化評估 ---\n",
    "if array_t1c_resampled is not None:\n",
    "    \n",
    "    # --- 新增：計算 NDV (非微分同胚體積) ---\n",
    "    print(\"\\n--- 正在計算評估指標 ---\")\n",
    "    try:\n",
    "        # 取得參考影像（固定影像）的資訊\n",
    "        reference_image = volume_pdff_sitk\n",
    "        \n",
    "        # 將轉換變成一個位移場 (Displacement Field)\n",
    "        displacement_field = sitk.TransformToDisplacementField(\n",
    "            final_transform,\n",
    "            sitk.sitkVectorFloat64,\n",
    "            reference_image.GetSize(),\n",
    "            reference_image.GetOrigin(),\n",
    "            reference_image.GetSpacing(),\n",
    "            reference_image.GetDirection()\n",
    "        )\n",
    "        \n",
    "        # 計算位移場的雅可比行列式 (Jacobian Determinant)\n",
    "        jacobian_det_image = sitk.DisplacementFieldJacobianDeterminant(displacement_field)\n",
    "        jacobian_np = sitk.GetArrayFromImage(jacobian_det_image)\n",
    "        \n",
    "        # 計算 NDV (%)：計算行列式小於等於0的體素所佔的比例\n",
    "        num_voxels = np.prod(jacobian_np.shape)\n",
    "        num_non_diffeomorphic_voxels = np.sum(jacobian_np <= 0)\n",
    "        ndv_percentage = (num_non_diffeomorphic_voxels / num_voxels) * 100.0\n",
    "        \n",
    "        print(f\"✅ 非微分同胚體積 (NDV): {ndv_percentage:.6f} %\")\n",
    "        \n",
    "    except Exception as e:\n",
    "        print(f\"❌ 計算 NDV 時發生錯誤: {e}\")\n",
    "    print(\"--------------------------\\n\")\n",
    "\n",
    "    # --- 維持不變：互動式視覺化對位結果 ---\n",
    "    def view_registered_slices(slice_idx):\n",
    "        \"\"\"\n",
    "        一個根據傳入的 slice_idx 來繪製三張對比圖的函式。\n",
    "        \"\"\"\n",
    "        fig, axes = plt.subplots(1, 3, figsize=(18, 6))\n",
    "\n",
    "        # 影像 1: 原始 T1 (移動影像)\n",
    "        # 由於原始 T1 的切片數可能不同，我們需要做邊界檢查\n",
    "        if slice_idx < array_t1c.shape[0]:\n",
    "            axes[0].imshow(array_t1c[slice_idx, :, :], cmap='gray')\n",
    "            axes[0].set_title(f'Original T1c (Moving)\\nSlice {slice_idx}')\n",
    "        else:\n",
    "            # 如果索引超出原始 T1 的範圍，就顯示一張黑色影像作為提示\n",
    "            axes[0].imshow(np.zeros_like(array_pdff[0, :, :]), cmap='gray')\n",
    "            axes[0].set_title(f'Original T1c (Out of Bounds)\\nSlice {slice_idx}')\n",
    "        axes[0].axis('off')\n",
    "\n",
    "        # 影像 2: PDFF (目標影像)\n",
    "        axes[1].imshow(array_pdff[slice_idx, :, :], cmap='gray')\n",
    "        axes[1].set_title(f'PDFF (Fixed Target)\\nSlice {slice_idx}')\n",
    "        axes[1].axis('off')\n",
    "\n",
    "        # 影像 3: 對位後的 T1\n",
    "        axes[2].imshow(array_t1c_resampled[slice_idx, :, :], cmap='gray')\n",
    "        axes[2].set_title(f'Registered T1c\\nSlice {slice_idx}')\n",
    "        axes[2].axis('off')\n",
    "\n",
    "        plt.suptitle(f'Interactive Registration Viewer (Patient {PATIENT_ID_TO_TEST})', fontsize=16)\n",
    "        plt.tight_layout()\n",
    "        plt.show()\n",
    "\n",
    "    # 建立互動式滑桿，並將它與上面的繪圖函式連結\n",
    "    widgets.interact(\n",
    "        view_registered_slices,\n",
    "        slice_idx=widgets.IntSlider(\n",
    "            min=0,\n",
    "            max=array_pdff.shape[0] - 1, # 滑桿範圍以對位目標(PDFF)的總切片數為準\n",
    "            step=1,\n",
    "            value=array_pdff.shape[0] // 2, # 初始顯示中間的切片\n",
    "            description='Slice Index:',\n",
    "            continuous_update=False, # 拖動滑桿放開後才更新，效能較好\n",
    "            layout=widgets.Layout(width='80%')\n",
    "        )\n",
    "    )\n",
    "else:\n",
    "    print(\"對位失敗或尚未執行，無法顯示互動式檢視器。\")"
   ]
  },
  {
   "cell_type": "code",
   "execution_count": 8,
   "metadata": {},
   "outputs": [
    {
     "data": {
      "application/vnd.jupyter.widget-view+json": {
       "model_id": "fe4c4e938f8a458a9241c57f0ff302f1",
       "version_major": 2,
       "version_minor": 0
      },
      "text/plain": [
       "interactive(children=(IntSlider(value=28, description='Slice Index:', max=55), IntSlider(value=1, description=…"
      ]
     },
     "metadata": {},
     "output_type": "display_data"
    },
    {
     "data": {
      "text/plain": [
       "<function __main__.interactive_final_viewer(slice_idx, vessel_scale)>"
      ]
     },
     "execution_count": 8,
     "metadata": {},
     "output_type": "execute_result"
    }
   ],
   "source": [
    "import numpy as np\n",
    "import matplotlib.pyplot as plt\n",
    "from skimage.filters import frangi, threshold_otsu\n",
    "from skimage import exposure\n",
    "import cv2\n",
    "import ipywidgets as widgets\n",
    "\n",
    "# ----- 步驟 1: 建立最終簡化版的互動式檢視器 -----\n",
    "def interactive_final_viewer(slice_idx, vessel_scale):\n",
    "    # 從全域變數獲取對位後的 T1 影像與原始的 PDFF 影像\n",
    "    t1_slice = array_t1c_resampled[slice_idx, :, :]\n",
    "    pdff_slice = array_pdff[slice_idx, :, :]\n",
    "    \n",
    "    # --- Frangi 血管偵測 ---\n",
    "    vesselness = frangi(t1_slice, scale_range=(vessel_scale, vessel_scale + 4), scale_step=1, black_ridges=False)\n",
    "    p2, p98 = np.percentile(vesselness, (2, 98))\n",
    "    vesselness_rescaled = exposure.rescale_intensity(vesselness, in_range=(p2, p98))\n",
    "    \n",
    "    # --- 全自動血管遮罩閾值處理 (僅使用 Otsu) ---\n",
    "    # 已移除手動調整功能\n",
    "    if vesselness_rescaled.max() > 0:\n",
    "        threshold_val = threshold_otsu(vesselness_rescaled[vesselness_rescaled > 0])\n",
    "    else:\n",
    "        threshold_val = 0.5 # 預設一個備用值\n",
    "    vessel_mask = (vesselness_rescaled > threshold_val)\n",
    "\n",
    "    # --- 繪製結果 (簡化為 1x2) ---\n",
    "    # 已移除中間的 Frangi Vesselness 影像\n",
    "    fig, axes = plt.subplots(1, 2, figsize=(12, 6))\n",
    "    \n",
    "    axes[0].imshow(t1_slice, cmap='gray')\n",
    "    axes[0].set_title(f'Registered T1c (Slice {slice_idx})')\n",
    "\n",
    "    # --- 最終疊加影像 (疊在 PDFF 上) ---\n",
    "    pdff_uint8 = exposure.rescale_intensity(pdff_slice, out_range=(0, 255)).astype(np.uint8)\n",
    "    overlay_rgb = cv2.cvtColor(pdff_uint8, cv2.COLOR_GRAY2BGR)\n",
    "    overlay_rgb[vessel_mask] = [255, 0, 0] # BGR for Blue\n",
    "\n",
    "    axes[1].imshow(overlay_rgb)\n",
    "    axes[1].set_title('Final Vessel Overlay on PDFF')\n",
    "\n",
    "    for ax in axes:\n",
    "        ax.axis('off')\n",
    "    plt.tight_layout()\n",
    "    plt.show()\n",
    "\n",
    "# ----- 步驟 2: 啟動最終簡化版的互動式滑桿 -----\n",
    "# 只保留 Slice Index 和 Vessel Scale 兩個調整項\n",
    "widgets.interact(\n",
    "    interactive_final_viewer,\n",
    "    slice_idx = widgets.IntSlider(value=array_pdff.shape[0] // 2, min=0, max=array_pdff.shape[0] - 1, step=1, description='Slice Index:'),\n",
    "    vessel_scale = widgets.IntSlider(value=1, min=1, max=10, step=1, description='Vessel Scale:')\n",
    ")"
   ]
  },
  {
   "cell_type": "code",
   "execution_count": null,
   "metadata": {},
   "outputs": [],
   "source": []
  }
 ],
 "metadata": {
  "kernelspec": {
   "display_name": "mri_liver_env",
   "language": "python",
   "name": "python3"
  },
  "language_info": {
   "codemirror_mode": {
    "name": "ipython",
    "version": 3
   },
   "file_extension": ".py",
   "mimetype": "text/x-python",
   "name": "python",
   "nbconvert_exporter": "python",
   "pygments_lexer": "ipython3",
   "version": "3.10.13"
  }
 },
 "nbformat": 4,
 "nbformat_minor": 2
}
